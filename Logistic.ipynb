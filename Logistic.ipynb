{
  "nbformat": 4,
  "nbformat_minor": 0,
  "metadata": {
    "colab": {
      "provenance": [],
      "authorship_tag": "ABX9TyOHoEWxu6fim34i640zxCaR",
      "include_colab_link": true
    },
    "kernelspec": {
      "name": "python3",
      "display_name": "Python 3"
    },
    "language_info": {
      "name": "python"
    }
  },
  "cells": [
    {
      "cell_type": "markdown",
      "metadata": {
        "id": "view-in-github",
        "colab_type": "text"
      },
      "source": [
        "<a href=\"https://colab.research.google.com/github/Kaviyakannan06/Machine-Learning-algorithms/blob/main/Logistic.ipynb\" target=\"_parent\"><img src=\"https://colab.research.google.com/assets/colab-badge.svg\" alt=\"Open In Colab\"/></a>"
      ]
    },
    {
      "cell_type": "code",
      "execution_count": null,
      "metadata": {
        "id": "ZjZ3VJKNzlSV"
      },
      "outputs": [],
      "source": [
        "import numpy\n",
        "from sklearn import linear_model\n",
        "\n",
        "#Reshaped for Logistic function.\n",
        "X = numpy.array([3.78, 2.44, 2.09, 0.14, 1.72, 1.65, 4.92, 4.37, 4.96, 4.52, 3.69, 5.88]).reshape(-1,1)\n",
        "y = numpy.array([0, 0, 0, 0, 0, 0, 1, 1, 1, 1, 1, 1])\n",
        "\n",
        "logr = linear_model.LogisticRegression()\n",
        "logr.fit(X,y)\n",
        "\n",
        "#predict if tumor is cancerous where the size is 3.46mm:\n",
        "predicted = logr.predict(numpy.array([3.46]).reshape(-1,1))\n",
        "print(predicted)\n",
        "\n",
        "[0]\n",
        "\n",
        "import numpy\n",
        "from sklearn import linear_model\n",
        "\n",
        "#Reshaped for Logistic function.\n",
        "X = numpy.array([3.78, 2.44, 2.09, 0.14, 1.72, 1.65, 4.92, 4.37, 4.96, 4.52, 3.69, 5.88]).reshape(-1,1)\n",
        "y = numpy.array([0, 0, 0, 0, 0, 0, 1, 1, 1, 1, 1, 1])\n",
        "\n",
        "logr = linear_model.LogisticRegression()\n",
        "logr.fit(X,y)\n",
        "\n",
        "log_odds = logr.coef_\n",
        "odds = numpy.exp(log_odds)\n",
        "\n",
        "print(odds)\n",
        "\n",
        "[[4.03557295]]\n",
        "\n",
        "import numpy\n",
        "from sklearn import linear_model\n",
        "\n",
        "X = numpy.array([3.78, 2.44, 2.09, 0.14, 1.72, 1.65, 4.92, 4.37, 4.96, 4.52, 3.69, 5.88]).reshape(-1,1)\n",
        "y = numpy.array([0, 0, 0, 0, 0, 0, 1, 1, 1, 1, 1, 1])\n",
        "\n",
        "logr = linear_model.LogisticRegression()\n",
        "logr.fit(X,y)\n",
        "\n",
        "def logit2prob(logr, X):\n",
        "  log_odds = logr.coef_ * X + logr.intercept_\n",
        "  odds = numpy.exp(log_odds)\n",
        "  probability = odds / (1 + odds)\n",
        "  return(probability)\n",
        "\n",
        "print(logit2prob(logr, X))\n",
        "\n",
        "[[0.60749168]\n",
        " [0.19267555]\n",
        " [0.12774788]\n",
        " [0.00955056]\n",
        " [0.08037781]\n",
        " [0.0734485 ]\n",
        " [0.88362857]\n",
        " [0.77901203]\n",
        " [0.88924534]\n",
        " [0.81293431]\n",
        " [0.57718238]\n",
        " [0.96664398]]\n"
      ]
    }
  ]
}